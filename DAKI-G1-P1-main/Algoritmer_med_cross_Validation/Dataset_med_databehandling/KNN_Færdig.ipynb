{
 "cells": [
  {
   "cell_type": "markdown",
   "metadata": {},
   "source": [
    "Viser den rå data før ændingerne sker, den vises kun for at få et før/efter billede af dataen."
   ]
  },
  {
   "cell_type": "code",
   "execution_count": 22,
   "metadata": {},
   "outputs": [
    {
     "name": "stdout",
     "output_type": "stream",
     "text": [
      "     Gender   Age   Occupation             Sleep Duration   Quality of Sleep   Physical Activity Level   Stress Level   BMI Category    Blood Pressure   Heart Rate   Daily Steps  Sleep Disorder\n",
      "0    Male       27  Software Engineer                  6.1                  6                        42              6  Overweight      126/83                    77          4200            NaN\n",
      "1    Male       28  Doctor                             6.2                  6                        60              8  Normal          125/80                    75         10000            NaN\n",
      "2    Male       28  Sales Representative               5.9                  4                        30              8  Obese           140/90                    85          3000    Sleep Apnea\n",
      "3    Male       28  Software Engineer                  5.9                  4                        30              8  Obese           140/90                    85          3000       Insomnia\n",
      "4    Male       29  Teacher                            6.3                  6                        40              7  Obese           140/90                    82          3500       Insomnia\n",
      "5    Male       29  Doctor                             7.8                  7                        75              6  Normal          120/80                    70          8000            NaN\n",
      "6    Male       29  Doctor                             6.1                  6                        30              8  Normal          120/80                    70          8000            NaN\n",
      "7    Male       29  Doctor                             6.0                  6                        30              8  Normal          120/80                    70          8000            NaN\n",
      "8    Female     29  Nurse                              6.5                  5                        40              7  Normal Weight   132/87                    80          4000    Sleep Apnea\n",
      "9    Male       29  Doctor                             6.0                  6                        30              8  Normal          120/80                    70          8000    Sleep Apnea\n",
      "10   Female     29  Nurse                              6.5                  5                        40              7  Normal Weight   132/87                    80          4000       Insomnia\n",
      "11   Male       30  Doctor                             7.6                  7                        75              6  Normal          120/80                    70          8000            NaN\n",
      "12   Male       30  Doctor                             7.7                  7                        75              6  Normal          120/80                    70          8000            NaN\n",
      "13   Male       30  Doctor                             7.8                  7                        75              6  Normal          120/80                    70          8000            NaN\n",
      "14   Male       30  Doctor                             7.9                  7                        75              6  Normal          120/80                    70          8000            NaN\n",
      "15   Female     30  Nurse                              6.4                  5                        35              7  Normal Weight   130/86                    78          4100    Sleep Apnea\n",
      "16   Female     30  Nurse                              6.4                  5                        35              7  Normal Weight   130/86                    78          4100       Insomnia\n",
      "17   Female     31  Nurse                              7.9                  8                        75              4  Normal Weight   117/76                    69          6800            NaN\n",
      "18   Male       31  Doctor                             6.1                  6                        30              8  Normal          125/80                    72          5000            NaN\n",
      "19   Male       31  Doctor                             7.7                  7                        75              6  Normal          120/80                    70          8000            NaN\n",
      "20   Male       31  Doctor                             7.6                  7                        75              6  Normal          120/80                    70          8000            NaN\n",
      "21   Male       31  Doctor                             7.8                  7                        75              6  Normal          120/80                    70          8000            NaN\n",
      "22   Male       31  Doctor                             7.7                  7                        75              6  Normal          120/80                    70          8000    Sleep Apnea\n",
      "23   Male       32  Engineer                           7.5                  8                        45              3  Normal          120/80                    70          8000            NaN\n",
      "24   Male       32  Doctor                             6.0                  6                        30              8  Normal          125/80                    72          5000            NaN\n",
      "25   Male       32  Doctor                             7.6                  7                        75              6  Normal          120/80                    70          8000            NaN\n",
      "26   Male       32  Doctor                             7.7                  7                        75              6  Normal          120/80                    70          8000            NaN\n",
      "27   Male       32  Doctor                             6.2                  6                        30              8  Normal          125/80                    72          5000            NaN\n",
      "28   Male       32  Accountant                         7.2                  8                        50              6  Normal Weight   118/76                    68          7000            NaN\n",
      "29   Male       33  Doctor                             6.0                  6                        30              8  Normal          125/80                    72          5000       Insomnia\n",
      "30   Female     33  Scientist                          6.2                  6                        50              6  Overweight      128/85                    76          5500            NaN\n",
      "31   Male       33  Doctor                             6.1                  6                        30              8  Normal          125/80                    72          5000            NaN\n",
      "32   Male       33  Doctor                             6.0                  6                        30              8  Normal          125/80                    72          5000            NaN\n",
      "33   Female     34  Scientist                          5.8                  4                        32              8  Overweight      131/86                    81          5200    Sleep Apnea\n",
      "34   Male       35  Teacher                            6.7                  7                        40              5  Overweight      128/84                    70          5600            NaN\n",
      "35   Male       35  Software Engineer                  7.5                  8                        60              5  Normal Weight   120/80                    70          8000            NaN\n",
      "36   Female     35  Accountant                         7.2                  8                        60              4  Normal          115/75                    68          7000            NaN\n",
      "37   Male       35  Engineer                           7.2                  8                        60              4  Normal          125/80                    65          5000            NaN\n",
      "38   Male       35  Engineer                           7.3                  8                        60              4  Normal          125/80                    65          5000            NaN\n",
      "39   Male       35  Lawyer                             7.4                  7                        60              5  Obese           135/88                    84          3300    Sleep Apnea\n",
      "40   Female     36  Accountant                         7.2                  8                        60              4  Normal          115/75                    68          7000       Insomnia\n",
      "41   Female     36  Accountant                         7.1                  8                        60              4  Normal          115/75                    68          7000            NaN\n",
      "42   Female     36  Accountant                         7.2                  8                        60              4  Normal          115/75                    68          7000            NaN\n",
      "43   Female     36  Teacher                            7.1                  8                        60              4  Normal          115/75                    68          7000            NaN\n",
      "44   Female     36  Teacher                            7.2                  8                        60              4  Normal          115/75                    68          7000            NaN\n",
      "45   Male       36  Teacher                            6.6                  5                        35              7  Overweight      129/84                    74          4800    Sleep Apnea\n",
      "46   Female     36  Teacher                            7.2                  8                        60              4  Normal          115/75                    68          7000    Sleep Apnea\n",
      "47   Male       36  Teacher                            6.6                  5                        35              7  Overweight      129/84                    74          4800       Insomnia\n",
      "48   Female     37  Nurse                              6.1                  6                        42              6  Overweight      126/83                    77          4200            NaN\n",
      "49   Male       37  Engineer                           7.8                  8                        70              4  Normal Weight   120/80                    68          7000            NaN\n",
      "50   Male       37  Lawyer                             7.4                  8                        60              5  Normal          130/85                    68          8000            NaN\n",
      "51   Female     37  Accountant                         7.2                  8                        60              4  Normal          115/75                    68          7000            NaN\n",
      "52   Female     37  Nurse                              7.5                  8                        60              4  Normal Weight   120/80                    70          8000            NaN\n",
      "53   Male       38  Lawyer                             7.3                  8                        60              5  Normal          130/85                    68          8000            NaN\n",
      "54   Female     38  Accountant                         7.1                  8                        60              4  Normal          115/75                    68          7000            NaN\n",
      "55   Male       38  Lawyer                             7.1                  8                        60              5  Normal          130/85                    68          8000            NaN\n",
      "56   Male       38  Lawyer                             7.1                  8                        60              5  Normal          130/85                    68          8000    Sleep Apnea\n",
      "57   Female     38  Lawyer                             7.4                  7                        60              5  Obese           135/88                    84          3300    Sleep Apnea\n",
      "58   Male       39  Lawyer                             7.2                  8                        60              5  Normal          130/85                    68          8000       Insomnia\n",
      "59   Male       39  Engineer                           6.5                  5                        40              7  Overweight      132/87                    80          4000       Insomnia\n",
      "60   Female     39  Lawyer                             6.9                  7                        50              6  Normal Weight   128/85                    75          5500            NaN\n",
      "61   Female     39  Accountant                         8.0                  9                        80              3  Normal Weight   115/78                    67          7500            NaN\n",
      "62   Male       39  Lawyer                             7.2                  8                        60              5  Normal          130/85                    68          8000            NaN\n",
      "63   Female     40  Accountant                         7.2                  8                        55              6  Normal Weight   119/77                    73          7300            NaN\n",
      "64   Male       40  Lawyer                             7.9                  8                        90              5  Normal          130/85                    68          8000            NaN\n",
      "65   Male       41  Lawyer                             7.6                  8                        90              5  Normal          130/85                    70          8000       Insomnia\n",
      "66   Male       41  Engineer                           7.3                  8                        70              6  Normal Weight   121/79                    72          6200            NaN\n",
      "67   Male       41  Lawyer                             7.1                  7                        55              6  Overweight      125/82                    72          6000            NaN\n",
      "68   Male       41  Lawyer                             7.7                  8                        90              5  Normal          130/85                    70          8000            NaN\n",
      "69   Male       41  Lawyer                             7.6                  8                        90              5  Normal          130/85                    70          8000            NaN\n",
      "70   Male       42  Salesperson                        6.5                  6                        45              7  Overweight      130/85                    72          6000       Insomnia\n",
      "71   Male       42  Lawyer                             7.8                  8                        90              5  Normal          130/85                    70          8000            NaN\n",
      "72   Female     42  Teacher                            6.8                  6                        45              7  Overweight      130/85                    78          5000    Sleep Apnea\n",
      "73   Female     43  Teacher                            6.7                  7                        45              4  Overweight      135/90                    65          6000       Insomnia\n",
      "74   Male       43  Salesperson                        6.3                  6                        45              7  Overweight      130/85                    72          6000       Insomnia\n",
      "75   Male       43  Salesperson                        6.5                  6                        45              7  Overweight      130/85                    72          6000       Insomnia\n",
      "76   Male       43  Salesperson                        6.4                  6                        45              7  Overweight      130/85                    72          6000       Insomnia\n",
      "77   Male       43  Engineer                           7.8                  8                        90              5  Normal          130/85                    70          8000       Insomnia\n",
      "78   Male       43  Engineer                           6.9                  6                        47              7  Normal Weight   117/76                    69          6800            NaN\n",
      "79   Male       43  Engineer                           7.6                  8                        75              4  Overweight      122/80                    68          6800            NaN\n",
      "80   Male       43  Engineer                           7.7                  8                        90              5  Normal          130/85                    70          8000            NaN\n",
      "81   Male       43  Engineer                           7.8                  8                        90              5  Normal          130/85                    70          8000            NaN\n",
      "82   Male       43  Engineer                           7.8                  8                        90              5  Normal          130/85                    70          8000    Sleep Apnea\n",
      "83   Male       43  Salesperson                        6.5                  6                        45              7  Overweight      130/85                    72          6000    Sleep Apnea\n",
      "84   Female     44  Teacher                            6.6                  7                        45              4  Overweight      135/90                    65          6000       Insomnia\n",
      "85   Male       44  Salesperson                        6.4                  6                        45              7  Overweight      130/85                    72          6000       Insomnia\n",
      "86   Male       44  Salesperson                        6.3                  6                        45              7  Overweight      130/85                    72          6000       Insomnia\n",
      "87   Female     44  Teacher                            6.5                  7                        45              4  Overweight      135/90                    65          6000       Insomnia\n",
      "88   Male       44  Engineer                           6.8                  7                        45              7  Overweight      130/85                    78          5000       Insomnia\n",
      "89   Male       44  Salesperson                        6.4                  6                        45              7  Overweight      130/85                    72          6000            NaN\n",
      "90   Male       44  Salesperson                        6.5                  6                        45              7  Overweight      130/85                    72          6000            NaN\n",
      "91   Female     45  Teacher                            6.8                  7                        30              6  Overweight      135/90                    65          6000       Insomnia\n",
      "92   Female     45  Teacher                            6.5                  7                        45              4  Overweight      135/90                    65          6000       Insomnia\n",
      "93   Female     45  Teacher                            6.6                  7                        45              4  Overweight      135/90                    65          6000       Insomnia\n",
      "94   Female     45  Teacher                            6.6                  7                        45              4  Overweight      135/90                    65          6000            NaN\n",
      "95   Female     45  Manager                            6.9                  7                        55              5  Overweight      125/82                    75          5500            NaN\n",
      "96   Male       48  Doctor                             7.3                  7                        65              5  Obese           142/92                    83          3500       Insomnia\n",
      "97   Female     48  Nurse                              5.9                  6                        90              8  Overweight      140/95                    75         10000    Sleep Apnea\n",
      "98   Female     49  Nurse                              6.2                  6                        90              8  Overweight      140/95                    75         10000            NaN\n",
      "99   Female     49  Nurse                              6.0                  6                        90              8  Overweight      140/95                    75         10000    Sleep Apnea\n",
      "100  Female     49  Nurse                              6.1                  6                        90              8  Overweight      140/95                    75         10000    Sleep Apnea\n",
      "101  Female     49  Nurse                              6.2                  6                        90              8  Overweight      140/95                    75         10000    Sleep Apnea\n",
      "102  Male       49  Doctor                             8.1                  9                        85              3  Obese           139/91                    86          3700    Sleep Apnea\n",
      "103  Female     50  Nurse                              6.1                  6                        90              8  Overweight      140/95                    75         10000       Insomnia\n",
      "104  Female     50  Engineer                           8.3                  9                        30              3  Normal          125/80                    65          5000            NaN\n",
      "105  Female     50  Nurse                              6.0                  6                        90              8  Overweight      140/95                    75         10000            NaN\n",
      "106  Female     50  Nurse                              6.1                  6                        90              8  Overweight      140/95                    75         10000    Sleep Apnea\n",
      "107  Female     50  Nurse                              6.0                  6                        90              8  Overweight      140/95                    75         10000    Sleep Apnea\n",
      "108  Female     51  Engineer                           8.5                  9                        30              3  Normal          125/80                    65          5000            NaN\n",
      "109  Female     51  Nurse                              7.1                  7                        55              6  Normal Weight   125/82                    72          6000            NaN\n",
      "110  Female     51  Nurse                              6.0                  6                        90              8  Overweight      140/95                    75         10000    Sleep Apnea\n",
      "111  Female     51  Nurse                              6.1                  6                        90              8  Overweight      140/95                    75         10000    Sleep Apnea\n",
      "112  Female     52  Accountant                         6.5                  7                        45              7  Overweight      130/85                    72          6000       Insomnia\n",
      "113  Female     52  Accountant                         6.6                  7                        45              7  Overweight      130/85                    72          6000       Insomnia\n",
      "114  Female     52  Engineer                           8.4                  9                        30              3  Normal          125/80                    65          5000            NaN\n",
      "115  Female     53  Engineer                           8.3                  9                        30              3  Normal          125/80                    65          5000       Insomnia\n",
      "116  Female     53  Engineer                           8.5                  9                        30              3  Normal          125/80                    65          5000            NaN\n",
      "117  Female     53  Engineer                           8.4                  9                        30              3  Normal          125/80                    65          5000            NaN\n",
      "118  Female     53  Engineer                           8.3                  9                        30              3  Normal          125/80                    65          5000            NaN\n",
      "119  Female     54  Engineer                           8.4                  9                        30              3  Normal          125/80                    65          5000            NaN\n",
      "120  Female     54  Engineer                           8.5                  9                        30              3  Normal          125/80                    65          5000            NaN\n",
      "121  Female     55  Nurse                              8.1                  9                        75              4  Overweight      140/95                    72          5000    Sleep Apnea\n",
      "122  Female     56  Doctor                             8.2                  9                        90              3  Normal Weight   118/75                    65         10000            NaN\n",
      "123  Female     57  Nurse                              8.1                  9                        75              3  Overweight      140/95                    68          7000            NaN\n",
      "124  Female     57  Nurse                              8.2                  9                        75              3  Overweight      140/95                    68          7000    Sleep Apnea\n",
      "125  Female     57  Nurse                              8.1                  9                        75              3  Overweight      140/95                    68          7000    Sleep Apnea\n",
      "126  Female     58  Nurse                              8.0                  9                        75              3  Overweight      140/95                    68          7000    Sleep Apnea\n",
      "127  Female     59  Nurse                              8.0                  9                        75              3  Overweight      140/95                    68          7000            NaN\n",
      "128  Female     59  Nurse                              8.1                  9                        75              3  Overweight      140/95                    68          7000            NaN\n",
      "129  Female     59  Nurse                              8.2                  9                        75              3  Overweight      140/95                    68          7000    Sleep Apnea\n",
      "130  Female     59  Nurse                              8.0                  9                        75              3  Overweight      140/95                    68          7000    Sleep Apnea\n",
      "131  Female     59  Nurse                              8.1                  9                        75              3  Overweight      140/95                    68          7000    Sleep Apnea\n"
     ]
    }
   ],
   "source": [
    "import pandas as pd\n",
    "\"\"\"Shows data before it is changed\"\"\"\n",
    "data = pd.read_csv(\"Sleep_health_and_lifestyle_dataset_no_duplicates.csv\")\n",
    "print(data.to_string())"
   ]
  },
  {
   "cell_type": "code",
   "execution_count": 23,
   "metadata": {},
   "outputs": [],
   "source": [
    "# Fjern mellemrum i kolonnenavne\n",
    "data.columns = data.columns.str.strip()\n",
    "\n",
    "# Fjern ekstra mellemrum i værdierne i 'BMI Category'\n",
    "data['BMI Category'] = data['BMI Category'].str.strip()"
   ]
  },
  {
   "cell_type": "code",
   "execution_count": 24,
   "metadata": {},
   "outputs": [],
   "source": [
    "\"\"\"BMI category ordinal encoding\"\"\"\n",
    "weight_mapping = {\n",
    "    'Underweight': 0,\n",
    "    'Normal': 1,\n",
    "    'Normal Weight': 1,\n",
    "    'Overweight': 2,\n",
    "    'Obese': 3\n",
    "}\n",
    "#Sætter de nye grænseværdier\n",
    "data['Weight_Category_BMI'] = data['BMI Category'].map(weight_mapping)"
   ]
  },
  {
   "cell_type": "code",
   "execution_count": 25,
   "metadata": {},
   "outputs": [],
   "source": [
    "#Ændre køn til 0 = kvinde 1 = mand\n",
    "gender_mapping = {\n",
    "    'Female': 0,\n",
    "    'Male': 1\n",
    "}\n",
    "\n",
    "#Indsætter den nye kolonne som skal erstatte Gender i det endelige resultat af databehandling\n",
    "data['Gender_Numerical'] = data['Gender'].str.strip().map(gender_mapping)\n"
   ]
  },
  {
   "cell_type": "code",
   "execution_count": 26,
   "metadata": {},
   "outputs": [],
   "source": [
    "# Scaler the 'Physical Activity Level' colonnen, så den er mellem 1-10\n",
    "data['Physical Activity Level (scaled)'] = 1 + (data['Physical Activity Level'] - 1) * (10 - 1) / (100 - 1)"
   ]
  },
  {
   "cell_type": "code",
   "execution_count": 27,
   "metadata": {},
   "outputs": [],
   "source": [
    "# Scaler 'Heart Rate' colonnen, så den er mellem 1-10\n",
    "data['Heart Rate (scaled)'] = 1 + (data['Heart Rate'] - 1) * (10 - 1) / (100 - 1)"
   ]
  },
  {
   "cell_type": "code",
   "execution_count": 28,
   "metadata": {},
   "outputs": [],
   "source": [
    "# Scaler 'Daily Steps' colonnen, så den er mellem 1-10\n",
    "data['Daily Steps (scaled)'] = 1 + (data['Daily Steps'] - 1) * (10 - 1) / (10000 - 1)"
   ]
  },
  {
   "cell_type": "code",
   "execution_count": 29,
   "metadata": {},
   "outputs": [],
   "source": [
    "# Scaler 'Age' colonnen, så den er mellem 1-10\n",
    "data['Age (scaled)'] = 1 + (data['Age'] - 1) * (10 - 1) / (100 - 1)"
   ]
  },
  {
   "cell_type": "code",
   "execution_count": 30,
   "metadata": {},
   "outputs": [],
   "source": [
    "\"\"\"Binary stress 0 = not stressed 1 = stressed\"\"\"\n",
    "# Sørger for at gruppere stress i 2 kategorier 'Stress Level': 0 for ikke stresset (1-5), 1 for stresset (6-10)\n",
    "data['Stress_Binary'] = data['Stress Level'].apply(lambda x: 1 if 6 <= x <= 10 else 0)"
   ]
  },
  {
   "cell_type": "code",
   "execution_count": 31,
   "metadata": {},
   "outputs": [],
   "source": [
    "\"\"\"Fjerner irrelevante kolonner, der er mange, da nye bliver lavet længere oppe, her fjerne vi dem som er enten irrelevante eller som er lavet om\"\"\"\n",
    "# Remove the 'User_ID and age' column\n",
    "data = data.drop(columns=[\"Occupation\", \"Sleep Disorder\", \"Blood Pressure\", \"BMI Category\", \"Physical Activity Level\", \"Daily Steps\", \"Stress Level\", \"Gender\", \"Heart Rate\", \"Age\"])"
   ]
  },
  {
   "cell_type": "code",
   "execution_count": 32,
   "metadata": {},
   "outputs": [
    {
     "data": {
      "text/html": [
       "<div>\n",
       "<style scoped>\n",
       "    .dataframe tbody tr th:only-of-type {\n",
       "        vertical-align: middle;\n",
       "    }\n",
       "\n",
       "    .dataframe tbody tr th {\n",
       "        vertical-align: top;\n",
       "    }\n",
       "\n",
       "    .dataframe thead th {\n",
       "        text-align: right;\n",
       "    }\n",
       "</style>\n",
       "<table border=\"1\" class=\"dataframe\">\n",
       "  <thead>\n",
       "    <tr style=\"text-align: right;\">\n",
       "      <th></th>\n",
       "      <th>Sleep Duration</th>\n",
       "      <th>Quality of Sleep</th>\n",
       "      <th>Weight_Category_BMI</th>\n",
       "      <th>Gender_Numerical</th>\n",
       "      <th>Physical Activity Level (scaled)</th>\n",
       "      <th>Heart Rate (scaled)</th>\n",
       "      <th>Daily Steps (scaled)</th>\n",
       "      <th>Age (scaled)</th>\n",
       "      <th>Stress_Binary</th>\n",
       "    </tr>\n",
       "  </thead>\n",
       "  <tbody>\n",
       "    <tr>\n",
       "      <th>0</th>\n",
       "      <td>6.1</td>\n",
       "      <td>6</td>\n",
       "      <td>2</td>\n",
       "      <td>1</td>\n",
       "      <td>4.727273</td>\n",
       "      <td>7.909091</td>\n",
       "      <td>4.779478</td>\n",
       "      <td>3.363636</td>\n",
       "      <td>1</td>\n",
       "    </tr>\n",
       "    <tr>\n",
       "      <th>1</th>\n",
       "      <td>6.2</td>\n",
       "      <td>6</td>\n",
       "      <td>1</td>\n",
       "      <td>1</td>\n",
       "      <td>6.363636</td>\n",
       "      <td>7.727273</td>\n",
       "      <td>10.000000</td>\n",
       "      <td>3.454545</td>\n",
       "      <td>1</td>\n",
       "    </tr>\n",
       "    <tr>\n",
       "      <th>2</th>\n",
       "      <td>5.9</td>\n",
       "      <td>4</td>\n",
       "      <td>3</td>\n",
       "      <td>1</td>\n",
       "      <td>3.636364</td>\n",
       "      <td>8.636364</td>\n",
       "      <td>3.699370</td>\n",
       "      <td>3.454545</td>\n",
       "      <td>1</td>\n",
       "    </tr>\n",
       "    <tr>\n",
       "      <th>3</th>\n",
       "      <td>5.9</td>\n",
       "      <td>4</td>\n",
       "      <td>3</td>\n",
       "      <td>1</td>\n",
       "      <td>3.636364</td>\n",
       "      <td>8.636364</td>\n",
       "      <td>3.699370</td>\n",
       "      <td>3.454545</td>\n",
       "      <td>1</td>\n",
       "    </tr>\n",
       "    <tr>\n",
       "      <th>4</th>\n",
       "      <td>6.3</td>\n",
       "      <td>6</td>\n",
       "      <td>3</td>\n",
       "      <td>1</td>\n",
       "      <td>4.545455</td>\n",
       "      <td>8.363636</td>\n",
       "      <td>4.149415</td>\n",
       "      <td>3.545455</td>\n",
       "      <td>1</td>\n",
       "    </tr>\n",
       "  </tbody>\n",
       "</table>\n",
       "</div>"
      ],
      "text/plain": [
       "   Sleep Duration  Quality of Sleep  Weight_Category_BMI  Gender_Numerical  \\\n",
       "0             6.1                 6                    2                 1   \n",
       "1             6.2                 6                    1                 1   \n",
       "2             5.9                 4                    3                 1   \n",
       "3             5.9                 4                    3                 1   \n",
       "4             6.3                 6                    3                 1   \n",
       "\n",
       "   Physical Activity Level (scaled)  Heart Rate (scaled)  \\\n",
       "0                          4.727273             7.909091   \n",
       "1                          6.363636             7.727273   \n",
       "2                          3.636364             8.636364   \n",
       "3                          3.636364             8.636364   \n",
       "4                          4.545455             8.363636   \n",
       "\n",
       "   Daily Steps (scaled)  Age (scaled)  Stress_Binary  \n",
       "0              4.779478      3.363636              1  \n",
       "1             10.000000      3.454545              1  \n",
       "2              3.699370      3.454545              1  \n",
       "3              3.699370      3.454545              1  \n",
       "4              4.149415      3.545455              1  "
      ]
     },
     "execution_count": 32,
     "metadata": {},
     "output_type": "execute_result"
    }
   ],
   "source": [
    "\"\"\"Fjern # hvis du vil se hele datasættet\"\"\"\n",
    "#pd.set_option('display.max_rows', None)  # Show all rows\n",
    "#pd.set_option('display.max_columns', None)  # Show all columns\n",
    "\n",
    "#from IPython.display import display\n",
    "#display(data)\n",
    "\n",
    "data.head(5)"
   ]
  },
  {
   "cell_type": "code",
   "execution_count": 33,
   "metadata": {},
   "outputs": [
    {
     "data": {
      "text/html": [
       "<div>\n",
       "<style scoped>\n",
       "    .dataframe tbody tr th:only-of-type {\n",
       "        vertical-align: middle;\n",
       "    }\n",
       "\n",
       "    .dataframe tbody tr th {\n",
       "        vertical-align: top;\n",
       "    }\n",
       "\n",
       "    .dataframe thead th {\n",
       "        text-align: right;\n",
       "    }\n",
       "</style>\n",
       "<table border=\"1\" class=\"dataframe\">\n",
       "  <thead>\n",
       "    <tr style=\"text-align: right;\">\n",
       "      <th></th>\n",
       "      <th>Sleep Duration</th>\n",
       "      <th>Quality of Sleep</th>\n",
       "      <th>Weight_Category_BMI</th>\n",
       "      <th>Gender_Numerical</th>\n",
       "      <th>Physical Activity Level (scaled)</th>\n",
       "      <th>Heart Rate (scaled)</th>\n",
       "      <th>Daily Steps (scaled)</th>\n",
       "      <th>Age (scaled)</th>\n",
       "      <th>Stress_Binary</th>\n",
       "    </tr>\n",
       "  </thead>\n",
       "  <tbody>\n",
       "    <tr>\n",
       "      <th>127</th>\n",
       "      <td>8.0</td>\n",
       "      <td>9</td>\n",
       "      <td>2</td>\n",
       "      <td>0</td>\n",
       "      <td>7.727273</td>\n",
       "      <td>7.090909</td>\n",
       "      <td>7.29973</td>\n",
       "      <td>6.272727</td>\n",
       "      <td>0</td>\n",
       "    </tr>\n",
       "    <tr>\n",
       "      <th>128</th>\n",
       "      <td>8.1</td>\n",
       "      <td>9</td>\n",
       "      <td>2</td>\n",
       "      <td>0</td>\n",
       "      <td>7.727273</td>\n",
       "      <td>7.090909</td>\n",
       "      <td>7.29973</td>\n",
       "      <td>6.272727</td>\n",
       "      <td>0</td>\n",
       "    </tr>\n",
       "    <tr>\n",
       "      <th>129</th>\n",
       "      <td>8.2</td>\n",
       "      <td>9</td>\n",
       "      <td>2</td>\n",
       "      <td>0</td>\n",
       "      <td>7.727273</td>\n",
       "      <td>7.090909</td>\n",
       "      <td>7.29973</td>\n",
       "      <td>6.272727</td>\n",
       "      <td>0</td>\n",
       "    </tr>\n",
       "    <tr>\n",
       "      <th>130</th>\n",
       "      <td>8.0</td>\n",
       "      <td>9</td>\n",
       "      <td>2</td>\n",
       "      <td>0</td>\n",
       "      <td>7.727273</td>\n",
       "      <td>7.090909</td>\n",
       "      <td>7.29973</td>\n",
       "      <td>6.272727</td>\n",
       "      <td>0</td>\n",
       "    </tr>\n",
       "    <tr>\n",
       "      <th>131</th>\n",
       "      <td>8.1</td>\n",
       "      <td>9</td>\n",
       "      <td>2</td>\n",
       "      <td>0</td>\n",
       "      <td>7.727273</td>\n",
       "      <td>7.090909</td>\n",
       "      <td>7.29973</td>\n",
       "      <td>6.272727</td>\n",
       "      <td>0</td>\n",
       "    </tr>\n",
       "  </tbody>\n",
       "</table>\n",
       "</div>"
      ],
      "text/plain": [
       "     Sleep Duration  Quality of Sleep  Weight_Category_BMI  Gender_Numerical  \\\n",
       "127             8.0                 9                    2                 0   \n",
       "128             8.1                 9                    2                 0   \n",
       "129             8.2                 9                    2                 0   \n",
       "130             8.0                 9                    2                 0   \n",
       "131             8.1                 9                    2                 0   \n",
       "\n",
       "     Physical Activity Level (scaled)  Heart Rate (scaled)  \\\n",
       "127                          7.727273             7.090909   \n",
       "128                          7.727273             7.090909   \n",
       "129                          7.727273             7.090909   \n",
       "130                          7.727273             7.090909   \n",
       "131                          7.727273             7.090909   \n",
       "\n",
       "     Daily Steps (scaled)  Age (scaled)  Stress_Binary  \n",
       "127               7.29973      6.272727              0  \n",
       "128               7.29973      6.272727              0  \n",
       "129               7.29973      6.272727              0  \n",
       "130               7.29973      6.272727              0  \n",
       "131               7.29973      6.272727              0  "
      ]
     },
     "execution_count": 33,
     "metadata": {},
     "output_type": "execute_result"
    }
   ],
   "source": [
    "data.tail(5)"
   ]
  },
  {
   "cell_type": "code",
   "execution_count": 34,
   "metadata": {},
   "outputs": [],
   "source": [
    "from sklearn.neighbors import KNeighborsClassifier\n",
    "from sklearn.model_selection import cross_val_score, cross_val_predict\n",
    "from sklearn.metrics import accuracy_score, precision_score, recall_score, confusion_matrix, precision_recall_curve, average_precision_score\n",
    "import matplotlib.pyplot as plt\n",
    "import seaborn as sns\n",
    "\n",
    "#X =Indeholder alle kolonner fra datasættet undtagen den kolonne som er Stress_Binary\n",
    "#y = Indeholder kun Stress_Binary som er vores mål variabel\n",
    "X = data.drop(columns=['Stress_Binary'])\n",
    "y = data['Stress_Binary']\n",
    "\n",
    "#Hvor mange naboer\n",
    "k = 11\n",
    "#Starter algoritmen med de hyperparametre som er sat\n",
    "knn_classifier = KNeighborsClassifier(n_neighbors=k, metric = \"manhattan\") \n",
    "#Test af yderligere parametre som weights og algorithm gav intet bedre resultat. \n",
    "#Dog giver manhatten bedre resultat end euclidean (ca. 3% accuracy)"
   ]
  },
  {
   "cell_type": "code",
   "execution_count": 35,
   "metadata": {},
   "outputs": [
    {
     "name": "stdout",
     "output_type": "stream",
     "text": [
      "Accuracy on test set: 0.95\n",
      "Classification Report:\n",
      "               precision    recall  f1-score   support\n",
      "\n",
      "           0       1.00      0.90      0.95        21\n",
      "           1       0.90      1.00      0.95        19\n",
      "\n",
      "    accuracy                           0.95        40\n",
      "   macro avg       0.95      0.95      0.95        40\n",
      "weighted avg       0.95      0.95      0.95        40\n",
      "\n"
     ]
    }
   ],
   "source": [
    "#Simple split af datasættet så modellen kan trænes og gemmes da dette ikke kan gøres ved cross-validation. Cross-validation bruges udelukkende til at teste modellens robusthed\n",
    "\n",
    "from sklearn.model_selection import train_test_split\n",
    "from sklearn.metrics import classification_report\n",
    "\n",
    "X_train, X_test, y_train, y_test = train_test_split(X, y, test_size=0.3, random_state=42)\n",
    "\n",
    "knn_classifier.fit(X_train, y_train)\n",
    "\n",
    "y_pred = knn_classifier.predict(X_test)\n",
    "print(\"Accuracy on test set:\", accuracy_score(y_test, y_pred))\n",
    "print(\"Classification Report:\\n\", classification_report(y_test, y_pred))"
   ]
  },
  {
   "cell_type": "code",
   "execution_count": 36,
   "metadata": {},
   "outputs": [
    {
     "name": "stdout",
     "output_type": "stream",
     "text": [
      "Cross-Validation Accuracy Scores: [0.92857143 1.         1.         0.84615385 0.69230769 0.76923077\n",
      " 0.53846154 0.92307692 1.         0.76923077]\n",
      "Mean Accuracy: 0.8467032967032967\n"
     ]
    }
   ],
   "source": [
    "# Brug krydsvalidering med 10 folds for at evaluere modellen\n",
    "cv_scores = cross_val_score(knn_classifier, X, y, cv = 10)\n",
    "\n",
    "# Printer resultater for hver fold og deres gennemsnit\n",
    "print(\"Cross-Validation Accuracy Scores:\", cv_scores)\n",
    "print(\"Mean Accuracy:\", cv_scores.mean())"
   ]
  },
  {
   "cell_type": "code",
   "execution_count": 37,
   "metadata": {},
   "outputs": [
    {
     "name": "stdout",
     "output_type": "stream",
     "text": [
      "Accuracy: 0.8484848484848485\n",
      "Precision: 0.8309859154929577\n",
      "Recall: 0.8805970149253731\n"
     ]
    }
   ],
   "source": [
    "# Får værdierne ud, så man kan se dem som acc, precision og recall\n",
    "y_pred_cv = cross_val_predict(knn_classifier, X, y, cv = 10)\n",
    "\n",
    "# Printer resultater\n",
    "print(\"Accuracy:\", accuracy_score(y, y_pred_cv))\n",
    "print(\"Precision:\", precision_score(y, y_pred_cv))\n",
    "print(\"Recall:\", recall_score(y, y_pred_cv))"
   ]
  },
  {
   "cell_type": "code",
   "execution_count": 38,
   "metadata": {},
   "outputs": [
    {
     "name": "stdout",
     "output_type": "stream",
     "text": [
      "Confusion Matrix:\n",
      " [[53 12]\n",
      " [ 8 59]]\n"
     ]
    },
    {
     "data": {
      "image/png": "[encoded data removed]",
      "text/plain": [
       "<Figure size 800x600 with 2 Axes>"
      ]
     },
     "metadata": {},
     "output_type": "display_data"
    }
   ],
   "source": [
    "# laver Confusion Matrix\n",
    "conf_matrix = confusion_matrix(y, y_pred_cv)\n",
    "print(\"Confusion Matrix:\\n\", conf_matrix)\n",
    "\n",
    "plt.figure(figsize=(8, 6))\n",
    "sns.heatmap(conf_matrix, annot=True, fmt='d', cmap='Blues', xticklabels=['Not Stressed', 'Stressed'], yticklabels=['Not Stressed', 'Stressed'])\n",
    "plt.xlabel('Predicted')\n",
    "plt.ylabel('Actual')\n",
    "plt.title('Confusion Matrix Heatmap')\n",
    "plt.show()"
   ]
  },
  {
   "cell_type": "code",
   "execution_count": 39,
   "metadata": {},
   "outputs": [
    {
     "data": {
      "image/png": "[encoded data removed]",
      "text/plain": [
       "<Figure size 1000x600 with 1 Axes>"
      ]
     },
     "metadata": {},
     "output_type": "display_data"
    }
   ],
   "source": [
    "#Brug cross_val_predict med sandsynligheder\n",
    "y_pred_cv = cross_val_predict(knn_classifier, X, y, cv=10, method=\"predict_proba\")[:, 1]  # Sandsynligheder for positiv klasse\n",
    "\n",
    "\n",
    "#Beregn Precision-Recall og plot\n",
    "precision, recall, thresholds_pr = precision_recall_curve(y, y_pred_cv)\n",
    "average_precision = average_precision_score(y, y_pred_cv)\n",
    "\n",
    "plt.figure(figsize=(10, 6))\n",
    "plt.plot(recall, precision, color='blue', lw=2, label=f'Precision-Recall Curve (AP = {average_precision:.2f})')\n",
    "plt.xlabel('Recall')\n",
    "plt.ylabel('Precision')\n",
    "plt.title('Precision-Recall Curve')\n",
    "plt.legend(loc='lower left')\n",
    "plt.show()\n",
    "#AP = Average Precision. Er et mål for modellens præcision over forskellige niveauer af recall. Det er et tal mellem 0 og 1, hvor en højere værdi indikerer, at modellen er bedre til at finde positive eksempler uden at inkludere mange falske positive."
   ]
  },
  {
   "cell_type": "code",
   "execution_count": 40,
   "metadata": {},
   "outputs": [
    {
     "data": {
      "image/png": "[encoded data removed]",
      "text/plain": [
       "<Figure size 800x600 with 1 Axes>"
      ]
     },
     "metadata": {},
     "output_type": "display_data"
    }
   ],
   "source": [
    "plt.figure(figsize=(8, 6))\n",
    "plt.bar(range(1, len(cv_scores) + 1), cv_scores)\n",
    "plt.title(\"Cross-Validation Accuracy Scores\")\n",
    "plt.xlabel(\"Fold\")\n",
    "plt.ylabel(\"Accuracy\")\n",
    "plt.show()"
   ]
  },
  {
   "cell_type": "code",
   "execution_count": 41,
   "metadata": {},
   "outputs": [
    {
     "data": {
      "text/plain": [
       "'Umiddelbart findes der ikke en feature importance for en KNN ligesom der gør ved RF og LR'"
      ]
     },
     "execution_count": 41,
     "metadata": {},
     "output_type": "execute_result"
    }
   ],
   "source": [
    "\"\"\"Umiddelbart findes der ikke en feature importance for en KNN ligesom der gør ved RF og LR\"\"\""
   ]
  },
  {
   "cell_type": "code",
   "execution_count": 42,
   "metadata": {},
   "outputs": [
    {
     "name": "stdout",
     "output_type": "stream",
     "text": [
      "Modellen er gemt\n"
     ]
    }
   ],
   "source": [
    "import joblib\n",
    "\n",
    "#  Gemme modellen\n",
    "joblib.dump(knn_classifier, \"stress_model_KNN.joblib\")\n",
    "print(\"Modellen er gemt\")"
   ]
  }
 ],
 "metadata": {
  "kernelspec": {
   "display_name": "Python 3",
   "language": "python",
   "name": "python3"
  },
  "language_info": {
   "codemirror_mode": {
    "name": "ipython",
    "version": 3
   },
   "file_extension": ".py",
   "mimetype": "text/x-python",
   "name": "python",
   "nbconvert_exporter": "python",
   "pygments_lexer": "ipython3",
   "version": "3.13.1"
  }
 },
 "nbformat": 4,
 "nbformat_minor": 2
}
